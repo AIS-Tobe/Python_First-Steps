{
  "nbformat": 4,
  "nbformat_minor": 0,
  "metadata": {
    "colab": {
      "provenance": [],
      "authorship_tag": "ABX9TyPtu5umA5xx+R1f09ivIkeb",
      "include_colab_link": true
    },
    "kernelspec": {
      "name": "python3",
      "display_name": "Python 3"
    },
    "language_info": {
      "name": "python"
    }
  },
  "cells": [
    {
      "cell_type": "markdown",
      "metadata": {
        "id": "view-in-github",
        "colab_type": "text"
      },
      "source": [
        "<a href=\"https://colab.research.google.com/github/AIS-Tobe/Python_First-Steps/blob/main/PRACTICAS_IF_ELIF_ELSE.ipynb\" target=\"_parent\"><img src=\"https://colab.research.google.com/assets/colab-badge.svg\" alt=\"Open In Colab\"/></a>"
      ]
    },
    {
      "cell_type": "code",
      "execution_count": 1,
      "metadata": {
        "colab": {
          "base_uri": "https://localhost:8080/"
        },
        "id": "dWkzAUZoUHI2",
        "outputId": "8112c47b-c71e-4f95-92b6-09b2516ea5c0"
      },
      "outputs": [
        {
          "output_type": "stream",
          "name": "stdout",
          "text": [
            "Ingrese la cantidad de ventas del primer producto: 12\n",
            "Ingrese la cantidad de ventas del segundo producto: a\n",
            "Por favor, ingrese un valor numérico válido.\n",
            "Ingrese la cantidad de ventas del segundo producto: s\n",
            "Por favor, ingrese un valor numérico válido.\n",
            "Ingrese la cantidad de ventas del segundo producto: d\n",
            "Por favor, ingrese un valor numérico válido.\n",
            "Ingrese la cantidad de ventas del segundo producto: 10\n",
            "Se vendio mas Manzanas.\n"
          ]
        }
      ],
      "source": [
        "# EJERCICIO 1\n",
        "# Crea un programa que reciba el número de ventas de los dos productos y muestre un mensaje indicando cuál de ellos vendió más. Si las cantidades son iguales, muestra un mensaje diciendo\n",
        "# que hubo un empate.\n",
        "\n",
        "# Pedimos valor de Manzanas\n",
        "while True:\n",
        "    try:\n",
        "      v_manzanas = int(input(\"Ingrese la cantidad de ventas del primer producto: \"))\n",
        "      break # Si el dato es valido sale del bucle\n",
        "    except ValueError:\n",
        "      print(\"Por favor, ingrese un valor numérico válido.\")\n",
        "\n",
        "# Pedimos valor de Platanos\n",
        "while True:\n",
        "    try:\n",
        "      v_platanos = int(input(\"Ingrese la cantidad de ventas del segundo producto: \"))\n",
        "      break # Si el dato es valido sale del bucle\n",
        "    except ValueError:\n",
        "      print(\"Por favor, ingrese un valor numérico válido.\")\n",
        "\n",
        "if v_manzanas > v_platanos:\n",
        "  print(\"Se vendio mas Manzanas.\")\n",
        "elif v_platanos > v_manzanas:\n",
        "  print(\"Se vendio mas platanos.\")\n",
        "else:\n",
        "  print(\"Hubo un empate entre los productos.\")\n"
      ]
    },
    {
      "cell_type": "markdown",
      "source": [
        "###  Versión mas profesional del Codigo"
      ],
      "metadata": {
        "id": "SMGKsvCxntVd"
      }
    },
    {
      "cell_type": "code",
      "source": [
        "def producto_mas_vendido(ventas: dict) -> str:\n",
        "    \"\"\"\n",
        "    Recibe un diccionario con el nombre del producto como clave y las ventas como valor.\n",
        "    Devuelve un mensaje indicando cuál vendió más o si hubo empate.\n",
        "    \"\"\"\n",
        "    if not ventas:\n",
        "        return \"No hay datos de ventas.\"\n",
        "\n",
        "    max_ventas = max(ventas.values())\n",
        "    ganadores = [p for p, v in ventas.items() if v == max_ventas]\n",
        "\n",
        "    if len(ganadores) == 1:\n",
        "        return f\"El producto más vendido fue: {ganadores[0]} ({max_ventas} unidades)\"\n",
        "    else:\n",
        "        return f\"Hubo un empate entre: {', '.join(ganadores)} con {max_ventas} unidades cada uno\"\n",
        "\n",
        "\n",
        "def get_positive_int(prompt: str) -> int:\n",
        "    \"\"\"Solicita un número entero positivo al usuario.\"\"\"\n",
        "    while True:\n",
        "        try:\n",
        "            value = int(input(prompt))\n",
        "            if value < 0:\n",
        "                print(\"Por favor, ingrese un número positivo.\")\n",
        "                continue\n",
        "            return value\n",
        "        except ValueError:\n",
        "            print(\"Entrada no válida. Ingrese un número entero.\")\n",
        "\n",
        "\n",
        "def mostrar_tabla_ventas(ventas: dict):\n",
        "    \"\"\"Muestra una tabla con el ranking de ventas y porcentajes.\"\"\"\n",
        "    total = sum(ventas.values())\n",
        "    print(\"\\n--- 📊 Ranking de Ventas por Producto ---\")\n",
        "    print(\"-\" * 50)\n",
        "\n",
        "    if total == 0:\n",
        "        print(\"No se registraron ventas.\")\n",
        "        return\n",
        "\n",
        "    # Ordenar productos por cantidad vendida (de mayor a menor)\n",
        "    ventas_ordenadas = sorted(ventas.items(), key=lambda x: x[1], reverse=True)\n",
        "\n",
        "    # Encabezados de tabla\n",
        "    print(f\"{'Producto':<15} {'Unidades':>10} {'% del total':>15}\")\n",
        "    print(\"-\" * 50)\n",
        "\n",
        "    # Filas con datos\n",
        "    for producto, cantidad in ventas_ordenadas:\n",
        "        porcentaje = (cantidad / total) * 100\n",
        "        print(f\"{producto.capitalize():<15} {cantidad:>10} {porcentaje:>14.2f}%\")\n",
        "\n",
        "    print(\"-\" * 50)\n",
        "    print(f\"{'TOTAL':<15} {total:>10} {100.00:>14.2f}%\")\n",
        "    print(\"-\" * 50)\n",
        "\n",
        "\n",
        "# --- Ingreso de datos ---\n",
        "productos = [\"manzanas\", \"plátanos\", \"naranjas\", \"uvas\"]  # Puedes agregar más productos\n",
        "ventas = {}\n",
        "\n",
        "print(\"=== Registro de ventas ===\")\n",
        "for producto in productos:\n",
        "    ventas[producto] = get_positive_int(f\"Ingrese el número de {producto} vendidas: \")\n",
        "\n",
        "# --- Resultados ---\n",
        "resultado = producto_mas_vendido(ventas)\n",
        "print(\"\\n\" + resultado)\n",
        "mostrar_tabla_ventas(ventas)\n"
      ],
      "metadata": {
        "colab": {
          "base_uri": "https://localhost:8080/"
        },
        "id": "7EnLMBXBn4P8",
        "outputId": "8432b269-bbfb-4aed-efd8-59c909be3d23"
      },
      "execution_count": 6,
      "outputs": [
        {
          "output_type": "stream",
          "name": "stdout",
          "text": [
            "=== Registro de ventas ===\n",
            "Ingrese el número de manzanas vendidas: 10\n",
            "Ingrese el número de plátanos vendidas: 15\n",
            "Ingrese el número de naranjas vendidas: 20\n",
            "Ingrese el número de uvas vendidas: 23\n",
            "\n",
            "El producto más vendido fue: uvas (23 unidades)\n",
            "\n",
            "--- 📊 Ranking de Ventas por Producto ---\n",
            "--------------------------------------------------\n",
            "Producto          Unidades     % del total\n",
            "--------------------------------------------------\n",
            "Uvas                    23          33.82%\n",
            "Naranjas                20          29.41%\n",
            "Plátanos                15          22.06%\n",
            "Manzanas                10          14.71%\n",
            "--------------------------------------------------\n",
            "TOTAL                   68         100.00%\n",
            "--------------------------------------------------\n"
          ]
        }
      ]
    },
    {
      "cell_type": "markdown",
      "source": [
        "### BENEFICIOS DE ESTA VERSION\n",
        "| Característica            |Descripción                                                  |\n",
        "| ------------------------- | ------------------------------------------------------------ |\n",
        "| 💡 **Visual profesional** | Muestra los datos en formato tabla alineada.                 |\n",
        "| ⚙️ **Automática**         | Calcula totales y porcentajes sin intervención manual.       |\n",
        "| 🔁 **Escalable**          | Solo debes agregar o quitar nombres de la lista `productos`. |\n",
        "| 🧩 **Modular**            | Las funciones están separadas (limpias y reutilizables).     |\n",
        "| 🛡️ **Segura**            | Valida que el usuario ingrese valores enteros positivos.     |\n"
      ],
      "metadata": {
        "id": "qaPtCo8GojA2"
      }
    },
    {
      "cell_type": "code",
      "source": [
        "# EJERCICIO 2\n",
        "# Lucas trabaja en TI y necesita garantizar que la temperatura de una sala de servidores no supere los 25°C. Quiere un programa que reciba la temperatura actual como entrada y,\n",
        "# si es necesario, muestre un mensaje de alerta.\n",
        "\n",
        "t_actual = float(input('Ingrese la temperatura actual del ambiente: '))\n",
        "if t_actual > 25 :\n",
        "  print('!Alerta! Temperatura por encima del limite permitido.')\n",
        "else:\n",
        "  print('Temperatura dentro del limite permitido.')"
      ],
      "metadata": {
        "colab": {
          "base_uri": "https://localhost:8080/"
        },
        "id": "zAFS2Nv6x1Zw",
        "outputId": "c6d5d864-b60f-45be-e468-1656830202ee"
      },
      "execution_count": 4,
      "outputs": [
        {
          "output_type": "stream",
          "name": "stdout",
          "text": [
            "Ingrese la temperatura actual del ambiente: 28\n",
            "!Alerta! Temperatura por encima del limite permitido.\n"
          ]
        }
      ]
    },
    {
      "cell_type": "code",
      "source": [
        "# CODIGO MEJORADO\n",
        "# Programa de control de temperatura en una sala de servidores\n",
        "# Proposito: Monitorear que la temperatura no supere el limite permitido (T°> 25°C)\n",
        "\n",
        "# Constante de limite maximo (°C)\n",
        "t_max = 25.0\n",
        "# Bucle para validar la informacion\n",
        "while True:\n",
        "  try:\n",
        "    t_actual = float(input('Ingrese la temperatura actual del servidor: '))\n",
        "      # Aseguro que Temperatura se encuentre en un rango de valores realistas\n",
        "    if t_actual < -10 or t_actual > 60 :\n",
        "      print('\\u26A0\\uFE0F Valor fuera de rango realista. Intente nuevamente (entre -10°C y 60°C)')\n",
        "      continue\n",
        "    break #Valor valido, sale del bucle\n",
        "  except ValueError:\n",
        "    print('\\u274C Error: Ingrese un valor numerico valido.\\n')\n",
        "\n",
        "# Mostrar el valor ingresado\n",
        "print(f'\\nTemperatura registrada: {t_actual:.1f}°C')\n",
        "# Evaluamos condiciones\n",
        "if t_actual > t_max:\n",
        "  print('\\U0001F6A8 !Alerta! Temperatura por encima del limite permitido.')\n",
        "elif t_actual == t_max :\n",
        "  print('\\u26A0\\uFE0F Temperatura en el limite. Se recomienda monitorear constantemente.')\n",
        "else:\n",
        "  print('\\u2705 Temperatura dentro del rango seguro')\n"
      ],
      "metadata": {
        "colab": {
          "base_uri": "https://localhost:8080/"
        },
        "id": "1SkdpYSRwI_z",
        "outputId": "df2ab523-3281-4ce9-ab53-f2b9cd50892b"
      },
      "execution_count": 9,
      "outputs": [
        {
          "output_type": "stream",
          "name": "stdout",
          "text": [
            "Ingrese la temperatura actual del servidor: 25\n",
            "\n",
            "Temperatura registrada: 25.0°C\n",
            "⚠️ Temperatura en el limite. Se recomienda monitorear constantemente.\n"
          ]
        }
      ]
    },
    {
      "cell_type": "code",
      "source": [
        "# EJERCICIO 3\n",
        "# Camila está organizando un proyecto y necesita calcular el tiempo total necesario para concluir tres actividades: A, B y C. Sin embargo, si alguna actividad tiene un número de días negativo,\n",
        "# el código debe avisar que los valores ingresados son inválidos y no calcular el total.\n",
        "# Escribe un programa que reciba el número de días de tres actividades y muestre el tiempo total del proyecto. Si algún valor es negativo, muestra un mensaje informando el error.\n",
        "actividad_A = int(input(\"Informe los días para la actividad A: \"))\n",
        "actividad_B = int(input(\"Informe los días para la actividad B: \"))\n",
        "actividad_C = int(input(\"Informe los días para la actividad C: \"))\n",
        "\n",
        "if actividad_A < 0 or actividad_B < 0 or actividad_C < 0:\n",
        "    print(\"Error: Los días no pueden ser negativos.\")\n",
        "else:\n",
        "    tiempo_total = actividad_A + actividad_B + actividad_C\n",
        "    print(f\"El tiempo total del proyecto es de {tiempo_total} días.\")"
      ],
      "metadata": {
        "id": "MUp8asYN2THU"
      },
      "execution_count": null,
      "outputs": []
    },
    {
      "cell_type": "code",
      "source": [
        "# CODIGO MEJORADO\n",
        "# Lista donde se almacenarán los días de cada actividad\n",
        "dias = []\n",
        "# Solicitar cuántas actividades tiene el proyecto\n",
        "while True:\n",
        "    try:\n",
        "        n_actividades = int(input(\"Ingrese la cantidad de actividades del proyecto: \"))\n",
        "        if n_actividades <= 0:\n",
        "            print(\"\\u26A0\\uFE0F  Error: el número de actividades debe ser mayor que cero.\\n\")  # ⚠️\n",
        "            continue\n",
        "        break\n",
        "    except ValueError:\n",
        "        print(\"\\u274C  Error: ingrese un número entero válido.\\n\")  # ❌\n",
        "\n",
        "# Pedir los días de cada actividad con validación individual\n",
        "for i in range(1, n_actividades + 1):\n",
        "  letra = chr(64 + i)  # Genera la letra correspondiente (A, B, C, etc.\n",
        "  while True:\n",
        "    try:\n",
        "      valor = int(input(f\"Ingrese el número de días de la actividad {letra}: \"))\n",
        "      if valor < 0:\n",
        "        print(\"\\u26A0\\uFE0F  Error: los días no pueden ser negativos. Intente nuevamente.\\n\")  # ⚠️\n",
        "        continue\n",
        "      dias.append(valor)\n",
        "      break  # si el valor es correcto, pasamos a la siguiente actividad\n",
        "    except ValueError:\n",
        "      print(\"\\u274C  Error: debe ingresar un número entero válido.\\n\")  # ❌\n",
        "\n",
        "# Calcular tiempo total\n",
        "tiempo_total = sum(dias)\n",
        "\n",
        "# Mostrar resultado final\n",
        "print(\"\\n\\u2705  Cálculo exitoso.\")  # ✅\n",
        "print(f\"Tiempo total estimado del proyecto: {tiempo_total} días.\")"
      ],
      "metadata": {
        "colab": {
          "base_uri": "https://localhost:8080/"
        },
        "id": "4JuKN2_A2XY-",
        "outputId": "184803c9-3289-4f0b-cc51-839a4d89e9a0"
      },
      "execution_count": 30,
      "outputs": [
        {
          "output_type": "stream",
          "name": "stdout",
          "text": [
            "Ingrese la cantidad de actividades del proyecto: 5\n",
            "Ingrese el número de días de la actividad A: 1\n",
            "Ingrese el número de días de la actividad B: 2\n",
            "Ingrese el número de días de la actividad C: 5\n",
            "Ingrese el número de días de la actividad D: 4\n",
            "Ingrese el número de días de la actividad E: 3\n",
            "\n",
            "✅  Cálculo exitoso.\n",
            "Tiempo total estimado del proyecto: 15 días.\n"
          ]
        }
      ]
    },
    {
      "cell_type": "code",
      "source": [
        "# EJERCICIO 4\n",
        "# Anna Júlia está creando un sistema para calcular el Índice de Masa Corporal (IMC) y proporcionar recomendaciones básicas. El programa debe recibir el peso y la altura de una persona y mostrar el\n",
        "# valor del IMC, además de indicar si está por debajo del peso, con peso normal o por encima del peso. Crea un programa que reciba el peso (en kg) y la altura (en metros) y calcule el IMC usando\n",
        "# la fórmula: IMC = peso / (altura ** 2)Luego, muestra el valor del IMC y un mensaje indicando si está por debajo del peso (IMC < 18.5), peso normal (18.5 <= IMC < 25) o\n",
        "# por encima del peso (IMC >= 25).\n",
        "\n",
        "print('=== Calculo del Indice de Masa Corporal(IMC) ===')\n",
        "# Pedimos datos al usuario\n",
        "peso = float(input('Ingrese su peso en kg: '))\n",
        "altura = float(input('Ingrese su altura en metros: '))\n",
        "\n",
        "# Validamos y Calculamos el IMC\n",
        "if peso <= 0 or altura <= 0:\n",
        "  print('Error: Los valores de peso y altura deben ser mayores que cero.')\n",
        "else:\n",
        "  imc = peso / (altura ** 2)\n",
        "# Guardamos las categorias en un diccionario\n",
        "clasificaciones = {\n",
        "    \"Bajo peso\": imc < 18.5,\n",
        "    \"Peso normal\": 18.5 <= imc < 25,\n",
        "    \"Sobrepeso\": 25 <= imc < 30,\n",
        "    \"Obesidad\": imc >= 30\n",
        "}\n",
        "# Determinamos la categoria segun la condicion que se cumpla\n",
        "for categoria, condicion in clasificaciones.items():\n",
        "  if condicion:\n",
        "    categoria_final = categoria\n",
        "    break #Rompemos el bucle cuando se encuentra la correcta\n",
        "\n",
        " # Mostramos el resultado\n",
        "print(\"\\n--- 📊 Resultados del cálculo IMC ---\")\n",
        "print(f\"IMC obtenido:       {imc:.2f}\")\n",
        "print(f\"Clasificación:      {categoria_final}\")\n",
        "print(\"--------------------------------------\")"
      ],
      "metadata": {
        "colab": {
          "base_uri": "https://localhost:8080/"
        },
        "id": "yyDEzHxz8Oay",
        "outputId": "8046f60e-6304-46fc-85ae-2e60c25a6f2f"
      },
      "execution_count": 33,
      "outputs": [
        {
          "output_type": "stream",
          "name": "stdout",
          "text": [
            "=== Calculo del Indice de Masa Corporal(IMC) ===\n",
            "Ingrese su peso en kg: 77\n",
            "Ingrese su altura en metros: 1.73\n",
            "\n",
            "--- 📊 Resultados del cálculo IMC ---\n",
            "IMC obtenido:       25.73\n",
            "Clasificación:      Sobrepeso\n",
            "--------------------------------------\n"
          ]
        }
      ]
    }
  ]
}